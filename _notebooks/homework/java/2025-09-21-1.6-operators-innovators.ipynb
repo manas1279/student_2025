{
 "cells": [
  {
   "cell_type": "raw",
   "id": "c45bf0b6",
   "metadata": {
    "vscode": {
     "languageId": "raw"
    }
   },
   "source": [
    "---\n",
    "layout: post\n",
    "toc: true\n",
    "title: Compound Assignment Operators\n",
    "menu: nav/home.html\n",
    "permalink: /csa/unit_01/1_6\n",
    "author: Manas\n",
    "---"
   ]
  },
  {
   "cell_type": "markdown",
   "id": "4ab2f3f9",
   "metadata": {},
   "source": [
    "# Compound Assignment Operators (AP CS A, Unit 1.6)\n",
    "\n",
    "\n",
    "## What Are They, and What Do They Help With?\n",
    "##### A **compound assignment operator** combines an arithmetic (or other) operation with an assignment in one statement.  \n",
    "\n",
    "**For example, instead of writing:**\n",
    "```java\n",
    "score = score + 10;\n",
    "```\n",
    "**You can write:**\n",
    "```java\n",
    "score += 10;\n",
    "```\n",
    "## Learning Goals For End of Lesson\n",
    "By the end of this lesson, you'll be able to:\n",
    "- Transform clunky `x = x + y` statements into sleek compound assignments\n",
    "- Master all the essential operators (`+=`, `-=`, `*=`, `/=`, `%=`, `++`, `--`)\n",
    "- Understand evaluation order and avoid common traps\n"
   ]
  },
  {
   "cell_type": "markdown",
   "id": "e356a2b6",
   "metadata": {},
   "source": [
    "## Table of Different Operations in Java\n",
    "\n",
    "| Operator | Equivalent Full Form | Purpose / Typical Use |\n",
    "|----------|---------------------|----------------------|\n",
    "| `+=`     | `x = x + y`         | Add to a running total; accumulate; string concatenation when LHS is a String. |\n",
    "| `-=`     | `x = x - y`         | Subtract / reduce something (e.g. subtract a cost, penalty). |\n",
    "| `*=`     | `x = x * y`         | Multiply — useful for scaling, growth, repeated doubling or factors. |\n",
    "| `/=`     | `x = x / y`         | Divide — scaling down; used in averages, proportions. (Watch out: integer division if both operands are ints.) |\n",
    "| `%=`     | `x = x % y`         | Remainder after division — wrap-around logic, parity checks, keeping things within bounds. |\n",
    "| `++`     | `x = x + 1`         | Add one; often used in loops, counters. |\n",
    "| `--`     | `x = x - 1`         | Subtract one; used in loops as well as decrementing counters. |"
   ]
  },
  {
   "cell_type": "markdown",
   "id": "875d8f88",
   "metadata": {},
   "source": [
    "## Popcorn Hack #1: \n",
    "Transform this beginner code into more advanced code using compound assignment operators."
   ]
  },
  {
   "cell_type": "code",
   "execution_count": 1,
   "id": "72ae5a90",
   "metadata": {},
   "outputs": [
    {
     "data": {
      "text/plain": [
       "68"
      ]
     },
     "execution_count": 1,
     "metadata": {},
     "output_type": "execute_result"
    }
   ],
   "source": [
    "int playerScore = 1000;\n",
    "int playerHealth = 100;\n",
    "int enemiesDefeated = 0;\n",
    "\n",
    "// Player defeats an enemy worth 250 points\n",
    "playerScore += 250;\n",
    "\n",
    "// Player takes 15 damage\n",
    "playerHealth -= 15;\n",
    "\n",
    "// Enemy count goes up\n",
    "enemiesDefeated++;\n",
    "\n",
    "// Boss battle: double the current score!\n",
    "playerScore *= 2;\n",
    "\n",
    "// Healing potion restores health to 80% of current\n",
    "playerHealth *= 4;\n",
    "playerHealth /= 5;  // 4/5 = 0.8, but we need integer math"
   ]
  },
  {
   "cell_type": "markdown",
   "id": "728202e2",
   "metadata": {},
   "source": [
    "### Examples to further understand this concept:"
   ]
  },
  {
   "cell_type": "code",
   "execution_count": 2,
   "id": "1095fe00",
   "metadata": {},
   "outputs": [
    {
     "name": "stdout",
     "output_type": "stream",
     "text": [
      "0\n"
     ]
    }
   ],
   "source": [
    "public class Example {\n",
    "  public static void main(String[] args) {\n",
    "    int score = 100;\n",
    "    double average = 85.5;\n",
    "    score += 50;       // score = 150\n",
    "    score -= 25;       // score = 125\n",
    "    score *= 2;        // score = 250\n",
    "    score /= 5;        // score = 50  (integer division)\n",
    "    score %= 15;       // score = 5   (50 % 15)\n",
    "    average += 4.5;    // average = 90.0\n",
    "    int count = 0;\n",
    "    count++;           // count = 1\n",
    "    count--;\n",
    "    System.out.println(count); // count = 0\n",
    "  }\n",
    "}\n",
    "Example.main(null);\n",
    "\n",
    "// Output: 0\n",
    "// Output: 0 \n",
    "// Explanation: The code demonstrates various assignment and arithmetic operations, including integer division and the modulus operator. The final output is 0 after incrementing and decrementing the count variable."
   ]
  },
  {
   "cell_type": "markdown",
   "id": "b821cce5",
   "metadata": {},
   "source": [
    "## Popcorn Hack #2: \n",
    "Write a short program where a variable called ```score``` starts at 100. Use at least three different compound assignment operators to update score, and print the result after each step.\n",
    "\n",
    "Example goals to try:\n",
    "1. Deduct points for a wrong answer (```-=```)\n",
    "2. Double the score with a power-up (```*=```)\n",
    "3. Find remainder after dividing by 7 (```%=```)"
   ]
  },
  {
   "cell_type": "code",
   "execution_count": 5,
   "id": "968a64a5",
   "metadata": {},
   "outputs": [
    {
     "name": "stdout",
     "output_type": "stream",
     "text": [
      "=== SCORE GAME SIMULATION ===\n",
      "\n",
      "Starting score: 100\n",
      "\n",
      "Wrong answer penalty...\n",
      "Score after penalty: 85\n",
      "\n",
      "Power-up activated! Score doubled!\n",
      "Score after power-up: 170\n",
      "\n",
      "Calculating remainder after dividing by 7...\n",
      "Final score (remainder): 2\n",
      "\n",
      "=== GAME COMPLETE ===\n"
     ]
    }
   ],
   "source": [
    "public class ScoreGame {\n",
    "    public static void main(String[] args) {\n",
    "        System.out.println(\"=== SCORE GAME SIMULATION ===\\n\");\n",
    "        \n",
    "        int score = 100;\n",
    "        System.out.println(\"Starting score: \" + score);\n",
    "        \n",
    "        // Deduct points for a wrong answer\n",
    "        System.out.println(\"\\nWrong answer penalty...\");\n",
    "        score -= 15;\n",
    "        System.out.println(\"Score after penalty: \" + score);\n",
    "        \n",
    "        // Double the score with a power-up\n",
    "        System.out.println(\"\\nPower-up activated! Score doubled!\");\n",
    "        score *= 2;\n",
    "        System.out.println(\"Score after power-up: \" + score);\n",
    "        \n",
    "        // Find remainder after dividing by 7\n",
    "        System.out.println(\"\\nCalculating remainder after dividing by 7...\");\n",
    "        score %= 7;\n",
    "        System.out.println(\"Final score (remainder): \" + score);\n",
    "        \n",
    "        System.out.println(\"\\n=== GAME COMPLETE ===\");\n",
    "    }\n",
    "}\n",
    "\n",
    "ScoreGame.main(null)"
   ]
  },
  {
   "cell_type": "markdown",
   "id": "f7f65161",
   "metadata": {},
   "source": [
    "### Important Rules to keep in mind (AP Test-Specific):\n",
    "1. You can only use these when the variable on the left already exists and has a value.\n",
    "\n",
    "2. Integer division: when you divide two ints, the fractional part is truncated. Be careful with ```/=```.\n",
    "\n",
    "3. Only post-form (```x++```, ```x--```) is in scope for the AP exam. Prefix forms (++x) are out of scope."
   ]
  },
  {
   "cell_type": "markdown",
   "id": "1ac7f636",
   "metadata": {},
   "source": [
    "# Homework Assignment for Unit 1.6\n",
    "\n",
    "**Due:** 10/9/2025 \n",
    "\n",
    "---\n",
    "\n",
    "## Assignment Overview\n",
    "\n",
    "Now that you've learned about compound assignment operators, it's time to put them into practice! You'll create a short Java program that models a real-world scenario.\n",
    "\n",
    "## Requirements\n",
    "\n",
    "Your program must include:\n",
    "- **At least 3 different** compound assignment operators (`+=`, `-=`, `*=`, `/=`, `%=`, `++`, `--`)\n",
    "- **Meaningful variable names** that make sense for your chosen scenario\n",
    "- **Print statements** showing the value after each operation\n",
    "- **Comments** explaining what each operation represents in your scenario\n",
    "- A **main method** that runs your simulation\n",
    "\n",
    "---"
   ]
  },
  {
   "cell_type": "markdown",
   "id": "7f98a04b",
   "metadata": {},
   "source": [
    "## Scenario Options\n",
    "\n",
    "Choose **ONE** of the following scenarios to model:\n",
    "\n",
    "### **Option A: Social Media Influencer Simulator**\n",
    "Model the journey of a content creator tracking their growth:\n",
    "\n",
    "##### **Suggested variables to track:**\n",
    "- `followers` - Start with some initial followers\n",
    "- `posts` - Number of posts made\n",
    "- `engagement` - Likes/comments received\n",
    "- `sponsorshipEarnings` - Money earned from sponsors\n",
    "\n",
    "##### **Example operations you might use:**\n",
    "- Gain followers from a viral post (`followers += 1000`)\n",
    "- Lose followers from controversial content (`followers -= 50`)\n",
    "- Double engagement from a trending hashtag (`engagement *= 2`)\n",
    "- Calculate average engagement per post (`engagement /= posts`)\n",
    "- Find your ranking position (`position %= 100`)\n"
   ]
  },
  {
   "cell_type": "markdown",
   "id": "c450ea2d",
   "metadata": {},
   "source": [
    "### **Option B: Bank Account Manager**\n",
    "Simulate managing a personal bank account over time:\n",
    "\n",
    "##### **Suggested variables to track:**\n",
    "- `balance` - Current account balance\n",
    "- `transactions` - Number of transactions made\n",
    "- `monthlyFee` - Account maintenance costs\n",
    "- `interestRate` - Interest earned/applied\n",
    "\n",
    "##### **Example operations you might use:**\n",
    "- Add monthly salary (`balance += 3000`)\n",
    "- Subtract rent payment (`balance -= 1200`)\n",
    "- Apply interest rate (`balance *= 1.02`)\n",
    "- Average monthly spending (`spending /= 12`)\n",
    "- Check account tier eligibility (`tier %= 5`)"
   ]
  },
  {
   "cell_type": "markdown",
   "id": "6c00ecf0",
   "metadata": {},
   "source": [
    "### **Option C: Fitness Progress Tracker** \n",
    "Track your fitness journey and daily health metrics:\n",
    "\n",
    "##### **Suggested variables to track:**\n",
    "- `totalCalories` - Calories consumed/burned\n",
    "- `workoutDays` - Days you've exercised\n",
    "- `stepCount` - Daily step count\n",
    "- `weightGoal` - Target weight progress\n",
    "\n",
    "##### **Example operations you might use:**\n",
    "- Add calories from meals (`totalCalories += 600`)\n",
    "- Burn calories from exercise (`totalCalories -= 300`)\n",
    "- Double steps from an active day (`stepCount *= 2`)\n",
    "- Calculate average daily steps (`stepCount /= 7`)\n",
    "- Track weekly goal progress (`progress %= 7`)"
   ]
  },
  {
   "cell_type": "markdown",
   "id": "1240b7f1",
   "metadata": {},
   "source": [
    "\n",
    "---\n",
    "## Sample Output Format\n",
    "\n",
    "Your program should produce an output similar to this (**this is an example for Option A but the format for other options is similar**):\n",
    "\n",
    "```\n",
    "=== SOCIAL MEDIA SIMULATOR ===\n",
    "\n",
    "Starting followers: 500\n",
    "\n",
    "Posted a new video!\n",
    "\n",
    "Followers: 750 (+250 from the viral video)\n",
    "\n",
    "Controversial opinion posted...\n",
    "\n",
    "Followers: 700 (-50 from upset followers)\n",
    "\n",
    "Trending hashtag boost!\n",
    "\n",
    "Followers: 1400 (doubled from trending!)\n",
    "\n",
    "Average engagement per post: 35\n",
    "\n",
    "Final ranking position: 400\n",
    "\n",
    "=== SIMULATION COMPLETE ===\n",
    "```\n",
    "\n",
    "---"
   ]
  },
  {
   "cell_type": "markdown",
   "id": "66a81573",
   "metadata": {},
   "source": [
    "## My output for the homework hack"
   ]
  },
  {
   "cell_type": "code",
   "execution_count": 3,
   "id": "a664dd18",
   "metadata": {},
   "outputs": [
    {
     "name": "stdout",
     "output_type": "stream",
     "text": [
      "=== SOCIAL MEDIA INFLUENCER SIMULATOR ===\n",
      "\n",
      "Starting followers: 500\n",
      "\n",
      "Posted a new video!\n",
      "Followers: 750 (+250 from the viral video)\n",
      "Posts: 1\n",
      "Engagement: 150\n",
      "\n",
      "Controversial opinion posted...\n",
      "Followers: 700 (-50 from upset followers)\n",
      "Engagement: 350\n",
      "\n",
      "Trending hashtag boost!\n",
      "Followers: 700 (doubled from trending!)\n",
      "Engagement: 700\n",
      "\n",
      "Calculating average engagement per post...\n",
      "Average engagement per post: 700\n",
      "\n",
      "Sponsorship deal secured!\n",
      "Sponsorship earnings: $500\n",
      "\n",
      "Finding ranking position...\n",
      "Final ranking position: 0\n",
      "\n",
      "=== SIMULATION COMPLETE ===\n",
      "Final Stats:\n",
      "Followers: 700\n",
      "Posts: 1\n",
      "Total Engagement: 700\n",
      "Sponsorship Earnings: $500\n"
     ]
    }
   ],
   "source": [
    "public class SocialMediaSimulator {\n",
    "    public static void main(String[] args) {\n",
    "        System.out.println(\"=== SOCIAL MEDIA INFLUENCER SIMULATOR ===\\n\");\n",
    "        \n",
    "        // Initialize variables\n",
    "        int followers = 500;\n",
    "        int posts = 0;\n",
    "        int engagement = 0;\n",
    "        int sponsorshipEarnings = 0;\n",
    "        \n",
    "        System.out.println(\"Starting followers: \" + followers);\n",
    "        System.out.println();\n",
    "        \n",
    "        // Post a new video\n",
    "        System.out.println(\"Posted a new video!\");\n",
    "        posts++;\n",
    "        followers += 250;  // Viral video gains followers\n",
    "        engagement += 150; // Likes and comments\n",
    "        System.out.println(\"Followers: \" + followers + \" (+250 from the viral video)\");\n",
    "        System.out.println(\"Posts: \" + posts);\n",
    "        System.out.println(\"Engagement: \" + engagement);\n",
    "        System.out.println();\n",
    "        \n",
    "        // Controversial opinion posted\n",
    "        System.out.println(\"Controversial opinion posted...\");\n",
    "        followers -= 50;    // Lose some followers\n",
    "        engagement += 200; // High engagement from controversy\n",
    "        System.out.println(\"Followers: \" + followers + \" (-50 from upset followers)\");\n",
    "        System.out.println(\"Engagement: \" + engagement);\n",
    "        System.out.println();\n",
    "        \n",
    "        // Trending hashtag boost\n",
    "        System.out.println(\"Trending hashtag boost!\");\n",
    "        engagement *= 2;   // Double engagement from trending\n",
    "        System.out.println(\"Followers: \" + followers + \" (doubled from trending!)\");\n",
    "        System.out.println(\"Engagement: \" + engagement);\n",
    "        System.out.println();\n",
    "        \n",
    "        // Calculate average engagement per post\n",
    "        System.out.println(\"Calculating average engagement per post...\");\n",
    "        int avgEngagement = engagement / posts;  // Integer division\n",
    "        System.out.println(\"Average engagement per post: \" + avgEngagement);\n",
    "        System.out.println();\n",
    "        \n",
    "        // Sponsorship deal\n",
    "        System.out.println(\"Sponsorship deal secured!\");\n",
    "        sponsorshipEarnings += 500;  // Earn money from sponsors\n",
    "        System.out.println(\"Sponsorship earnings: $\" + sponsorshipEarnings);\n",
    "        System.out.println();\n",
    "        \n",
    "        // Find ranking position\n",
    "        System.out.println(\"Finding ranking position...\");\n",
    "        int position = followers % 100;  // Modulo for ranking\n",
    "        System.out.println(\"Final ranking position: \" + position);\n",
    "        System.out.println();\n",
    "        \n",
    "        System.out.println(\"=== SIMULATION COMPLETE ===\");\n",
    "        System.out.println(\"Final Stats:\");\n",
    "        System.out.println(\"Followers: \" + followers);\n",
    "        System.out.println(\"Posts: \" + posts);\n",
    "        System.out.println(\"Total Engagement: \" + engagement);\n",
    "        System.out.println(\"Sponsorship Earnings: $\" + sponsorshipEarnings);\n",
    "    }\n",
    "}\n",
    "\n",
    "SocialMediaSimulator.main(null)\n"
   ]
  },
  {
   "cell_type": "markdown",
   "id": "dc8347e5",
   "metadata": {},
   "source": [
    "## Submission Instructions\n",
    "**Create a section on your personal blog documenting one of the three provided options. After updating your blog, please submit a personal blog link of your completed assignment to the google form link inserted in the 'CSA Sign Up Sheet - Team Teach - Trimester 1' spreadsheet.**\n",
    "\n",
    "Here is where to submit your homework by **10/9/2025**! ([Lesson 1.6 Hacks + Homework Submission Form](https://forms.gle/tx7i7TntBVR3umPeA))\n",
    "\n",
    "**Please read the requirements in the form description before submitting your homework.**"
   ]
  }
 ],
 "metadata": {
  "kernelspec": {
   "display_name": "Java",
   "language": "java",
   "name": "jbang-ijava"
  },
  "language_info": {
   "codemirror_mode": "java",
   "file_extension": ".jshell",
   "mimetype": "text/x-java-source",
   "name": "java",
   "pygments_lexer": "java",
   "version": "17.0.16+8"
  }
 },
 "nbformat": 4,
 "nbformat_minor": 5
}
