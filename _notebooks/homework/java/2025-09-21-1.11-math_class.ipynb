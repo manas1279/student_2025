{
 "cells": [
  {
   "cell_type": "raw",
   "id": "a9b42124",
   "metadata": {
    "vscode": {
     "languageId": "raw"
    }
   },
   "source": [
    "---\n",
    "layout: post\n",
    "toc: true\n",
    "title: Math Class\n",
    "menu: nav/home.html\n",
    "permalink: /csa/unit_01/1_11\n",
    "author: Gurshawn, Anvay, Akshay\n",
    "---"
   ]
  },
  {
   "cell_type": "markdown",
   "id": "033c842e",
   "metadata": {},
   "source": [
    "##  The Problem: Building a Game Without Math Class\n",
    "\n",
    "Imagine you're creating a simple RPG game and you need to:\n",
    "- Calculate a player's damage: 10 × (1.5<sup>level</sup>)\n",
    "- Find the distance between the player and an enemy\n",
    "- Generate random loot drops\n",
    "- Round numbers for displaying stats\n",
    "\n",
    "**Without the Math class, you'd have to write your own code for all of this!** That would be hundreds of lines of complicated algorithms.\n",
    "\n",
    "**With the Math class?** Just a few simple method calls! \n",
    "\n",
    "###  Think About This:\n",
    "- Have you ever used the x² or √ button on a calculator?\n",
    "- When might you need to generate a random number in a program?\n",
    "- Why would we want to round 47.8 to 48?\n",
    "\n",
    "Let's learn how Java's Math class makes all of this easy!"
   ]
  },
  {
   "cell_type": "markdown",
   "id": "4f107a63",
   "metadata": {},
   "source": [
    "##  What is the Math Class?\n",
    "\n",
    "The **Math Class** is a special tool built into Java that lets you do complex math operations easily.\n",
    "\n",
    "### College Board Essential Knowledge (1.11.A.1):\n",
    "- The Math class is part of the `java.lang` package\n",
    "- You don't need to import it - it's **automatically available** in every Java program\n",
    "- It contains only **static methods** (you call them using `Math.methodName()`)\n",
    "\n",
    "Think of it like having a scientific calculator built right into your code!"
   ]
  },
  {
   "cell_type": "markdown",
   "id": "e3cebf2d",
   "metadata": {},
   "source": [
    "##  Learning Objective (College Board 1.11.A)\n",
    "\n",
    "**By the end of this lesson, you will be able to:**\n",
    "> Develop code to write expressions that incorporate calls to built-in mathematical libraries and determine the value that is produced\n",
    "\n",
    "In simple terms: You'll learn to use Math class methods in your code and understand what they return!\n",
    "\n",
    "**What you'll master:**\n",
    "1. Using Math.abs() to get absolute values\n",
    "2. Using Math.pow() to calculate powers\n",
    "3. Using Math.sqrt() to find square roots\n",
    "4. Using Math.random() to generate random numbers\n",
    "5. Manipulating random values to create specific ranges"
   ]
  },
  {
   "cell_type": "markdown",
   "id": "733ddb87",
   "metadata": {},
   "source": [
    "##  Important Math Class Methods (College Board 1.11.A.2)\n",
    "\n",
    "These are the methods you NEED to know for the AP CSA exam:\n",
    "\n",
    "| Method | What It Does | Example |\n",
    "|--------|--------------|---------|\n",
    "| `Math.abs(int x)` | Returns the absolute value of an integer | `Math.abs(-5)` returns `5` |\n",
    "| `Math.abs(double x)` | Returns the absolute value of a double | `Math.abs(-7.5)` returns `7.5` |\n",
    "| `Math.pow(double base, double exponent)` | Returns base raised to the power of exponent | `Math.pow(2, 3)` returns `8.0` |\n",
    "| `Math.sqrt(double x)` | Returns the square root of x | `Math.sqrt(25)` returns `5.0` |\n",
    "| `Math.random()` | Returns a random number from 0.0 (inclusive) to 1.0 (exclusive) | `Math.random()` might return `0.537` |\n",
    "\n",
    "###  Key Points to Remember:\n",
    "1. All these methods are **static** - call them with `Math.methodName()`\n",
    "2. Most return `double` values\n",
    "3. `Math.random()` always returns a value where **0.0 ≤ value < 1.0**\n",
    "4. You can manipulate `Math.random()` to get different ranges (we'll learn this!)\n"
   ]
  },
  {
   "cell_type": "markdown",
   "id": "8aa9c8a9",
   "metadata": {},
   "source": [
    "##  Let's See Them in Action!\n",
    "\n",
    "Now let's write code using each of these methods. Follow along and run the code yourself!\n"
   ]
  },
  {
   "cell_type": "markdown",
   "id": "48b5f0a5",
   "metadata": {},
   "source": [
    "### Example 1: Math.abs() - Absolute Value\n"
   ]
  },
  {
   "cell_type": "code",
   "execution_count": null,
   "id": "a9426589",
   "metadata": {},
   "outputs": [],
   "source": [
    "// Math.abs() removes the negative sign from a number\n",
    "\n",
    "int playerHealth = 75;\n",
    "int enemyHealth = 120;\n",
    "int difference = playerHealth - enemyHealth;  // This is -45\n",
    "\n",
    "System.out.println(\"Raw difference: \" + difference);\n",
    "System.out.println(\"Absolute difference: \" + Math.abs(difference));\n",
    "\n",
    "// Use case: Find out WHO has more health, not if it's positive or negative\n",
    "System.out.println(\"\\nThe health gap is \" + Math.abs(difference) + \" HP\");\n"
   ]
  },
  {
   "cell_type": "markdown",
   "id": "0b326845",
   "metadata": {},
   "source": [
    "### Example 2: Math.pow() - Powers/Exponents\n"
   ]
  },
  {
   "cell_type": "code",
   "execution_count": null,
   "id": "2755a530",
   "metadata": {},
   "outputs": [],
   "source": [
    "// Math.pow(base, exponent) calculates base^exponent\n",
    "\n",
    "// Example: Calculate damage that increases with level\n",
    "double baseDamage = 10.0;\n",
    "int level = 5;\n",
    "\n",
    "// Damage formula: baseDamage * (1.5^level)\n",
    "double totalDamage = baseDamage * Math.pow(1.5, level);\n",
    "\n",
    "System.out.println(\"Base Damage: \" + baseDamage);\n",
    "System.out.println(\"At level \" + level + \", damage is: \" + totalDamage);\n",
    "\n",
    "// Another example: 2^10\n",
    "System.out.println(\"\\n2 to the power of 10 = \" + Math.pow(2, 10));\n"
   ]
  },
  {
   "cell_type": "markdown",
   "id": "5a43a307",
   "metadata": {},
   "source": [
    "### Example 3: Math.sqrt() - Square Root\n"
   ]
  },
  {
   "cell_type": "code",
   "execution_count": null,
   "id": "dfc5f563",
   "metadata": {},
   "outputs": [],
   "source": [
    "// Math.sqrt() finds the square root\n",
    "\n",
    "// Use case: Distance formula (Pythagorean theorem)\n",
    "// Distance = √((x2-x1)² + (y2-y1)²)\n",
    "\n",
    "double playerX = 3.0;\n",
    "double playerY = 4.0;\n",
    "double enemyX = 0.0;\n",
    "double enemyY = 0.0;\n",
    "\n",
    "// Calculate distance\n",
    "double distance = Math.sqrt(Math.pow(playerX - enemyX, 2) + Math.pow(playerY - enemyY, 2));\n",
    "\n",
    "System.out.println(\"Player is at (\" + playerX + \", \" + playerY + \")\");\n",
    "System.out.println(\"Enemy is at (\" + enemyX + \", \" + enemyY + \")\");\n",
    "System.out.println(\"Distance between them: \" + distance + \" units\");\n"
   ]
  },
  {
   "cell_type": "markdown",
   "id": "20ae2222",
   "metadata": {},
   "source": [
    "### Example 4: Math.random() - Random Numbers\n",
    "\n"
   ]
  },
  {
   "cell_type": "code",
   "execution_count": null,
   "id": "9ea01cbb",
   "metadata": {},
   "outputs": [],
   "source": [
    "// Math.random() returns a value: 0.0 <= value < 1.0\n",
    "// This means it can be 0.0, but will NEVER be exactly 1.0\n",
    "\n",
    "System.out.println(\"Basic random number: \" + Math.random());\n",
    "System.out.println(\"Another one: \" + Math.random());\n",
    "System.out.println(\"And another: \" + Math.random());\n",
    "\n",
    "// These will all be different numbers between 0.0 and 1.0\n",
    "// Examples: 0.374, 0.891, 0.025, etc.\n"
   ]
  },
  {
   "cell_type": "markdown",
   "id": "74c1fb9c",
   "metadata": {},
   "source": [
    "##  The MOST Important Part: Manipulating Math.random()\n",
    "\n",
    "**College Board Essential Knowledge (1.11.A.3):**\n",
    "> The values returned from `Math.random()` can be manipulated using arithmetic and casting operators to produce a random int or double in a defined range\n",
    "\n",
    "This is crucial for the AP exam! Let's learn how to create random numbers in ANY range you want.\n"
   ]
  },
  {
   "cell_type": "markdown",
   "id": "19409094",
   "metadata": {},
   "source": [
    "### Step-by-Step: Creating Random Integers in a Range\n",
    "\n",
    "**Goal: Get a random integer from min to max (inclusive)**\n",
    "\n",
    "**Formula:**\n",
    "```java\n",
    "(int)(Math.random() * (max - min + 1)) + min\n",
    "```\n",
    "\n",
    "Let's break this down!\n"
   ]
  },
  {
   "cell_type": "code",
   "execution_count": null,
   "id": "7d126e8c",
   "metadata": {},
   "outputs": [],
   "source": [
    "// Example: Random number from 1 to 6 (like a dice roll)\n",
    "\n",
    "int min = 1;\n",
    "int max = 6;\n",
    "\n",
    "// Step 1: Math.random() gives us 0.0 to 0.999...\n",
    "// Step 2: Multiply by (max - min + 1) = 6, gives us 0.0 to 5.999...\n",
    "// Step 3: Cast to int, gives us 0 to 5\n",
    "// Step 4: Add min, gives us 1 to 6\n",
    "\n",
    "int diceRoll = (int)(Math.random() * (max - min + 1)) + min;\n",
    "\n",
    "System.out.println(\"You rolled a: \" + diceRoll);\n",
    "\n",
    "// Try it a few more times!\n",
    "System.out.println(\"Roll 2: \" + (int)(Math.random() * 6) + 1);\n",
    "System.out.println(\"Roll 3: \" + (int)(Math.random() * 6) + 1);\n",
    "System.out.println(\"Roll 4: \" + (int)(Math.random() * 6) + 1);\n"
   ]
  },
  {
   "cell_type": "code",
   "execution_count": null,
   "id": "685b9cc1",
   "metadata": {},
   "outputs": [],
   "source": [
    "// Another example: Random damage from 50 to 100\n",
    "\n",
    "int minDamage = 50;\n",
    "int maxDamage = 100;\n",
    "\n",
    "int damage = (int)(Math.random() * (maxDamage - minDamage + 1)) + minDamage;\n",
    "\n",
    "System.out.println(\"Damage dealt: \" + damage);\n",
    "\n",
    "// Generate 5 random damage values\n",
    "System.out.println(\"\\n5 Attacks:\");\n",
    "for (int i = 1; i <= 5; i++) {\n",
    "    int randomDamage = (int)(Math.random() * 51) + 50;  // 51 because (100-50+1)=51\n",
    "    System.out.println(\"Attack \" + i + \": \" + randomDamage + \" damage\");\n",
    "}\n"
   ]
  },
  {
   "cell_type": "markdown",
   "id": "3884da91",
   "metadata": {},
   "source": [
    "## Popcorn Hack #1: Power Level Calculator\n",
    "\n",
    "**Your Task:** Create a program that calculates a character's power level.\n",
    "\n",
    "**Requirements:**\n",
    "- Base power = 100\n",
    "- Power formula: `basePower * (1.2)^level`\n",
    "- Ask user for their level (or hard-code level = 10)\n",
    "- Use `Math.pow()` to calculate final power\n",
    "- Print the result\n",
    "\n",
    "**Example Output:**\n",
    "```\n",
    "Level: 10\n",
    "Base Power: 100\n",
    "Final Power: 619.17 (approximately)\n",
    "```\n"
   ]
  },
  {
   "cell_type": "code",
   "execution_count": null,
   "id": "809a6b26",
   "metadata": {},
   "outputs": [],
   "source": [
    "// YOUR CODE HERE for Popcorn Hack #1"
   ]
  },
  {
   "cell_type": "markdown",
   "id": "7f2711dd",
   "metadata": {},
   "source": [
    "## Popcorn Hack #2: Loot Drop Simulator\n",
    "\n",
    "**Your Task:** Create a simple loot drop system that generates random items.\n",
    "\n",
    "**Requirements:**\n",
    "- Generate a random item rarity (1-100)\n",
    "  - 1-60: Common (worth 10-30 gold)\n",
    "  - 61-85: Rare (worth 31-70 gold)\n",
    "  - 86-100: Legendary (worth 71-100 gold)\n",
    "- Use `Math.random()` to generate the rarity number\n",
    "- Use `Math.random()` again to generate gold value within the range\n",
    "- Print what you got!\n",
    "\n",
    "**Example Output:**\n",
    "```\n",
    "Loot Drop!\n",
    "Rarity Roll: 73\n",
    "You got: RARE item\n",
    "Gold Value: 54\n",
    "```\n",
    "\n",
    "**Hint:** You'll need to use if-else statements with your random numbers!\n"
   ]
  },
  {
   "cell_type": "code",
   "execution_count": null,
   "id": "4ce3745c",
   "metadata": {},
   "outputs": [],
   "source": [
    "// YOUR CODE HERE for Popcorn Hack #2\n"
   ]
  },
  {
   "cell_type": "markdown",
   "id": "58465895",
   "metadata": {},
   "source": [
    "##  Quick Summary - What You Learned\n",
    "\n",
    "### Key Methods to Remember:\n",
    "1. **Math.abs(x)** - Makes any number positive\n",
    "2. **Math.pow(base, exp)** - Calculates powers (like 2³)\n",
    "3. **Math.sqrt(x)** - Finds square roots\n",
    "4. **Math.random()** - Generates random numbers (0.0 to 1.0)\n",
    "\n",
    "### The Important Formula:\n",
    "**Random integer from min to max (inclusive):**\n",
    "```java\n",
    "(int)(Math.random() * (max - min + 1)) + min\n",
    "```\n",
    "\n",
    "### College Board Key Points:\n",
    " Math class is in java.lang (automatically available)  \n",
    " All methods are static  \n",
    " Math.random() returns: 0.0 ≤ value < 1.0  \n",
    " You can manipulate random() to get any range you want\n",
    "\n",
    "---\n",
    "\n",
    "##  Homework Checklist\n",
    "\n",
    "### What to Submit:\n",
    "\n",
    "1. **Popcorn Hack #1**: Power Level Calculator  \n",
    "2. **Popcorn Hack #2**: Loot Drop Simulator  \n",
    "\n",
    "\n",
    "### Before You Submit:\n",
    "- [ ] Both popcorn hacks are complete and run without errors\n",
    "- [ ] Your code has comments explaining what it does\n",
    "- [ ] You've tested your code with different values\n",
    "- [ ] You completed the homework assignment\n",
    "\n",
    "\n",
    "---\n",
    "\n",
    "\n",
    "**Questions?** Ask in class or on Slack!\n",
    "\n",
    "**Pro Tip:** The random number formula is VERY commonly tested on the AP exam. Make sure you understand it!"
   ]
  }
 ],
 "metadata": {
  "kernelspec": {
   "display_name": "Java",
   "language": "java",
   "name": "java"
  },
  "language_info": {
   "name": "java",
   "version": "17.0.12"
  }
 },
 "nbformat": 4,
 "nbformat_minor": 5
}
